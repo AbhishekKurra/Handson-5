{
  "nbformat": 4,
  "nbformat_minor": 0,
  "metadata": {
    "colab": {
      "provenance": [],
      "authorship_tag": "ABX9TyNN9gf18wmwjHcHnK07lydX",
      "include_colab_link": true
    },
    "kernelspec": {
      "name": "python3",
      "display_name": "Python 3"
    },
    "language_info": {
      "name": "python"
    }
  },
  "cells": [
    {
      "cell_type": "markdown",
      "metadata": {
        "id": "view-in-github",
        "colab_type": "text"
      },
      "source": [
        "<a href=\"https://colab.research.google.com/github/AbhishekKurra/Handson-5/blob/main/Min%20Heap%20Datastructure.ipynb\" target=\"_parent\"><img src=\"https://colab.research.google.com/assets/colab-badge.svg\" alt=\"Open In Colab\"/></a>"
      ]
    },
    {
      "cell_type": "code",
      "execution_count": 4,
      "metadata": {
        "colab": {
          "base_uri": "https://localhost:8080/"
        },
        "id": "kMnFwJk89_kO",
        "outputId": "a32b4c2c-c557-47fd-9f4f-bb797629e601"
      },
      "outputs": [
        {
          "output_type": "stream",
          "name": "stdout",
          "text": [
            "Initial Min Heap: [1, 5, 2, 7, 8, 3, 4]\n",
            "Heap after push(0): [0, 1, 2, 5, 8, 3, 4, 7]\n",
            "Popped root: 0\n",
            "Heap after pop(): [1, 5, 2, 7, 8, 3, 4]\n",
            "Peek root: 1\n",
            "Heap after push(6): [1, 5, 2, 6, 8, 3, 4, 7]\n",
            "Heap after push(1): [1, 1, 2, 5, 8, 3, 4, 7, 6]\n",
            "Popped root: 1\n",
            "Heap after pop(): [1, 5, 2, 6, 8, 3, 4, 7]\n",
            "Heap state: [1, 5, 2, 6, 8, 3, 4, 7]\n"
          ]
        }
      ],
      "source": [
        "import heapq\n",
        "\n",
        "class MinHeap:\n",
        "    def __init__(self, data=None):\n",
        "        self.heap = []\n",
        "        if data:\n",
        "            self.build_min_heap(data)\n",
        "\n",
        "\n",
        "    def parent(self, index):\n",
        "        return (index - 1) >> 1\n",
        "\n",
        "    def left(self, index):\n",
        "        return (index << 1) + 1\n",
        "\n",
        "    def right(self, index):\n",
        "        return (index << 1) + 2\n",
        "\n",
        "    def heapify(self, index):\n",
        "        smallest = index\n",
        "        left_child = self.left(index)\n",
        "        right_child = self.right(index)\n",
        "\n",
        "        if left_child < len(self.heap) and self.heap[left_child] < self.heap[smallest]:\n",
        "            smallest = left_child\n",
        "\n",
        "        if right_child < len(self.heap) and self.heap[right_child] < self.heap[smallest]:\n",
        "            smallest = right_child\n",
        "\n",
        "        if smallest != index:\n",
        "            self.heap[index], self.heap[smallest] = self.heap[smallest], self.heap[index]\n",
        "            self.heapify(smallest)\n",
        "\n",
        "    def build_min_heap(self, data):\n",
        "        self.heap = data[:]\n",
        "        for i in range(len(self.heap) // 2, -1, -1):\n",
        "            self.heapify(i)\n",
        "\n",
        "    def push(self, item):\n",
        "        self.heap.append(item)\n",
        "        index = len(self.heap) - 1\n",
        "        while index > 0 and self.heap[self.parent(index)] > self.heap[index]:\n",
        "            self.heap[self.parent(index)], self.heap[index] = self.heap[index], self.heap[self.parent(index)]\n",
        "            index = self.parent(index)\n",
        "\n",
        "    def pop(self):\n",
        "        if len(self.heap) == 0:\n",
        "            raise IndexError(\"Pop from empty heap\")\n",
        "        root = self.heap[0]\n",
        "        self.heap[0] = self.heap[-1]\n",
        "        self.heap.pop()\n",
        "        if self.heap:\n",
        "            self.heapify(0)\n",
        "        return root\n",
        "\n",
        "    def peek(self):\n",
        "        if not self.heap:\n",
        "            raise IndexError(\"Peek from empty heap\")\n",
        "        return self.heap[0]\n",
        "\n",
        "    def __str__(self):\n",
        "        return str(self.heap)\n",
        "\n",
        "\n",
        "data = [7, 8, 3, 5, 1, 2, 4]\n",
        "heap = MinHeap(data)\n",
        "print(\"Initial Min Heap:\", heap)\n",
        "\n",
        "heap.push(0)\n",
        "print(\"Heap after push(0):\", heap)\n",
        "\n",
        "print(\"Popped root:\", heap.pop())\n",
        "print(\"Heap after pop():\", heap)\n",
        "\n",
        "print(\"Peek root:\", heap.peek())\n",
        "\n",
        "heap.push(6)\n",
        "print(\"Heap after push(6):\", heap)\n",
        "\n",
        "heap.push(1)\n",
        "print(\"Heap after push(1):\", heap)\n",
        "\n",
        "print(\"Popped root:\", heap.pop())\n",
        "print(\"Heap after pop():\", heap)\n",
        "\n",
        "print(\"Heap state:\", heap)\n"
      ]
    }
  ]
}